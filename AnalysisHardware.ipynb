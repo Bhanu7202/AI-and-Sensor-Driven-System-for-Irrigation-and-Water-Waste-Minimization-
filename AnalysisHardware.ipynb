{
 "cells": [
  {
   "cell_type": "code",
   "execution_count": 1,
   "metadata": {},
   "outputs": [],
   "source": [
    "import numpy as np\n",
    "import pandas as pd\n",
    "import matplotlib.pyplot as plt\n",
    "from matplotlib import rcParams\n",
    "from matplotlib.cm import rainbow\n",
    "\n",
    "import warnings\n",
    "warnings.filterwarnings('ignore')\n",
    "\n",
    "from sklearn.model_selection import train_test_split\n",
    "from sklearn.preprocessing import StandardScaler\n",
    "\n",
    "from sklearn.tree import DecisionTreeClassifier\n",
    "from sklearn.naive_bayes import GaussianNB\n",
    "from sklearn.metrics import classification_report, confusion_matrix"
   ]
  },
  {
   "cell_type": "code",
   "execution_count": 2,
   "metadata": {},
   "outputs": [],
   "source": [
    "dataset = pd.read_csv('irrigationwaterpump1000.csv')"
   ]
  },
  {
   "cell_type": "code",
   "execution_count": 3,
   "metadata": {},
   "outputs": [
    {
     "data": {
      "text/html": [
       "<div>\n",
       "<style scoped>\n",
       "    .dataframe tbody tr th:only-of-type {\n",
       "        vertical-align: middle;\n",
       "    }\n",
       "\n",
       "    .dataframe tbody tr th {\n",
       "        vertical-align: top;\n",
       "    }\n",
       "\n",
       "    .dataframe thead th {\n",
       "        text-align: right;\n",
       "    }\n",
       "</style>\n",
       "<table border=\"1\" class=\"dataframe\">\n",
       "  <thead>\n",
       "    <tr style=\"text-align: right;\">\n",
       "      <th></th>\n",
       "      <th>Crop</th>\n",
       "      <th>Moisture1</th>\n",
       "      <th>Moisture2</th>\n",
       "      <th>Temperature</th>\n",
       "      <th>Humidity</th>\n",
       "      <th>Level</th>\n",
       "      <th>label</th>\n",
       "    </tr>\n",
       "  </thead>\n",
       "  <tbody>\n",
       "    <tr>\n",
       "      <th>0</th>\n",
       "      <td>3</td>\n",
       "      <td>1</td>\n",
       "      <td>7</td>\n",
       "      <td>31</td>\n",
       "      <td>60</td>\n",
       "      <td>3</td>\n",
       "      <td>5</td>\n",
       "    </tr>\n",
       "    <tr>\n",
       "      <th>1</th>\n",
       "      <td>5</td>\n",
       "      <td>7</td>\n",
       "      <td>2</td>\n",
       "      <td>36</td>\n",
       "      <td>57</td>\n",
       "      <td>2</td>\n",
       "      <td>5</td>\n",
       "    </tr>\n",
       "    <tr>\n",
       "      <th>2</th>\n",
       "      <td>5</td>\n",
       "      <td>15</td>\n",
       "      <td>3</td>\n",
       "      <td>38</td>\n",
       "      <td>56</td>\n",
       "      <td>2</td>\n",
       "      <td>3</td>\n",
       "    </tr>\n",
       "    <tr>\n",
       "      <th>3</th>\n",
       "      <td>1</td>\n",
       "      <td>4</td>\n",
       "      <td>8</td>\n",
       "      <td>36</td>\n",
       "      <td>59</td>\n",
       "      <td>2</td>\n",
       "      <td>5</td>\n",
       "    </tr>\n",
       "    <tr>\n",
       "      <th>4</th>\n",
       "      <td>3</td>\n",
       "      <td>7</td>\n",
       "      <td>14</td>\n",
       "      <td>33</td>\n",
       "      <td>68</td>\n",
       "      <td>4</td>\n",
       "      <td>1</td>\n",
       "    </tr>\n",
       "    <tr>\n",
       "      <th>...</th>\n",
       "      <td>...</td>\n",
       "      <td>...</td>\n",
       "      <td>...</td>\n",
       "      <td>...</td>\n",
       "      <td>...</td>\n",
       "      <td>...</td>\n",
       "      <td>...</td>\n",
       "    </tr>\n",
       "    <tr>\n",
       "      <th>1195</th>\n",
       "      <td>5</td>\n",
       "      <td>14</td>\n",
       "      <td>12</td>\n",
       "      <td>28</td>\n",
       "      <td>49</td>\n",
       "      <td>1</td>\n",
       "      <td>6</td>\n",
       "    </tr>\n",
       "    <tr>\n",
       "      <th>1196</th>\n",
       "      <td>2</td>\n",
       "      <td>15</td>\n",
       "      <td>13</td>\n",
       "      <td>25</td>\n",
       "      <td>43</td>\n",
       "      <td>4</td>\n",
       "      <td>6</td>\n",
       "    </tr>\n",
       "    <tr>\n",
       "      <th>1197</th>\n",
       "      <td>3</td>\n",
       "      <td>12</td>\n",
       "      <td>14</td>\n",
       "      <td>27</td>\n",
       "      <td>46</td>\n",
       "      <td>3</td>\n",
       "      <td>6</td>\n",
       "    </tr>\n",
       "    <tr>\n",
       "      <th>1198</th>\n",
       "      <td>5</td>\n",
       "      <td>12</td>\n",
       "      <td>13</td>\n",
       "      <td>22</td>\n",
       "      <td>41</td>\n",
       "      <td>2</td>\n",
       "      <td>6</td>\n",
       "    </tr>\n",
       "    <tr>\n",
       "      <th>1199</th>\n",
       "      <td>3</td>\n",
       "      <td>11</td>\n",
       "      <td>15</td>\n",
       "      <td>26</td>\n",
       "      <td>49</td>\n",
       "      <td>4</td>\n",
       "      <td>6</td>\n",
       "    </tr>\n",
       "  </tbody>\n",
       "</table>\n",
       "<p>1200 rows × 7 columns</p>\n",
       "</div>"
      ],
      "text/plain": [
       "      Crop  Moisture1  Moisture2  Temperature  Humidity  Level  label\n",
       "0        3          1          7           31        60      3      5\n",
       "1        5          7          2           36        57      2      5\n",
       "2        5         15          3           38        56      2      3\n",
       "3        1          4          8           36        59      2      5\n",
       "4        3          7         14           33        68      4      1\n",
       "...    ...        ...        ...          ...       ...    ...    ...\n",
       "1195     5         14         12           28        49      1      6\n",
       "1196     2         15         13           25        43      4      6\n",
       "1197     3         12         14           27        46      3      6\n",
       "1198     5         12         13           22        41      2      6\n",
       "1199     3         11         15           26        49      4      6\n",
       "\n",
       "[1200 rows x 7 columns]"
      ]
     },
     "execution_count": 3,
     "metadata": {},
     "output_type": "execute_result"
    }
   ],
   "source": [
    "dataset"
   ]
  },
  {
   "cell_type": "code",
   "execution_count": 4,
   "metadata": {},
   "outputs": [
    {
     "data": {
      "text/plain": [
       "Text(0.5, 1.0, 'Count of each Target Class')"
      ]
     },
     "execution_count": 4,
     "metadata": {},
     "output_type": "execute_result"
    },
    {
     "data": {
      "image/png": "[encoded data removed]",
      "text/plain": [
       "<Figure size 800x600 with 1 Axes>"
      ]
     },
     "metadata": {},
     "output_type": "display_data"
    }
   ],
   "source": [
    "rcParams['figure.figsize'] = 8,6\n",
    "plt.bar(dataset['label'].unique(), dataset['label'].value_counts(), color = ['red', 'green', 'blue', 'yellow', 'orange', 'violet'])\n",
    "plt.xticks([1,2,3,4,5,6])\n",
    "plt.xlabel('Target Classes')\n",
    "plt.ylabel('Count')\n",
    "plt.title('Count of each Target Class')"
   ]
  },
  {
   "cell_type": "code",
   "execution_count": 5,
   "metadata": {},
   "outputs": [],
   "source": [
    "y = dataset['label']\n",
    "X = dataset.drop(['label'], axis = 1)\n",
    "X_train, X_test, y_train, y_test = train_test_split(X, y, test_size = 0.2, random_state = 0)"
   ]
  },
  {
   "cell_type": "code",
   "execution_count": 6,
   "metadata": {},
   "outputs": [],
   "source": [
    "gnb = GaussianNB()"
   ]
  },
  {
   "cell_type": "code",
   "execution_count": 7,
   "metadata": {},
   "outputs": [
    {
     "data": {
      "text/html": [
       "<style>#sk-container-id-1 {color: black;background-color: white;}#sk-container-id-1 pre{padding: 0;}#sk-container-id-1 div.sk-toggleable {background-color: white;}#sk-container-id-1 label.sk-toggleable__label {cursor: pointer;display: block;width: 100%;margin-bottom: 0;padding: 0.3em;box-sizing: border-box;text-align: center;}#sk-container-id-1 label.sk-toggleable__label-arrow:before {content: \"▸\";float: left;margin-right: 0.25em;color: #696969;}#sk-container-id-1 label.sk-toggleable__label-arrow:hover:before {color: black;}#sk-container-id-1 div.sk-estimator:hover label.sk-toggleable__label-arrow:before {color: black;}#sk-container-id-1 div.sk-toggleable__content {max-height: 0;max-width: 0;overflow: hidden;text-align: left;background-color: #f0f8ff;}#sk-container-id-1 div.sk-toggleable__content pre {margin: 0.2em;color: black;border-radius: 0.25em;background-color: #f0f8ff;}#sk-container-id-1 input.sk-toggleable__control:checked~div.sk-toggleable__content {max-height: 200px;max-width: 100%;overflow: auto;}#sk-container-id-1 input.sk-toggleable__control:checked~label.sk-toggleable__label-arrow:before {content: \"▾\";}#sk-container-id-1 div.sk-estimator input.sk-toggleable__control:checked~label.sk-toggleable__label {background-color: #d4ebff;}#sk-container-id-1 div.sk-label input.sk-toggleable__control:checked~label.sk-toggleable__label {background-color: #d4ebff;}#sk-container-id-1 input.sk-hidden--visually {border: 0;clip: rect(1px 1px 1px 1px);clip: rect(1px, 1px, 1px, 1px);height: 1px;margin: -1px;overflow: hidden;padding: 0;position: absolute;width: 1px;}#sk-container-id-1 div.sk-estimator {font-family: monospace;background-color: #f0f8ff;border: 1px dotted black;border-radius: 0.25em;box-sizing: border-box;margin-bottom: 0.5em;}#sk-container-id-1 div.sk-estimator:hover {background-color: #d4ebff;}#sk-container-id-1 div.sk-parallel-item::after {content: \"\";width: 100%;border-bottom: 1px solid gray;flex-grow: 1;}#sk-container-id-1 div.sk-label:hover label.sk-toggleable__label {background-color: #d4ebff;}#sk-container-id-1 div.sk-serial::before {content: \"\";position: absolute;border-left: 1px solid gray;box-sizing: border-box;top: 0;bottom: 0;left: 50%;z-index: 0;}#sk-container-id-1 div.sk-serial {display: flex;flex-direction: column;align-items: center;background-color: white;padding-right: 0.2em;padding-left: 0.2em;position: relative;}#sk-container-id-1 div.sk-item {position: relative;z-index: 1;}#sk-container-id-1 div.sk-parallel {display: flex;align-items: stretch;justify-content: center;background-color: white;position: relative;}#sk-container-id-1 div.sk-item::before, #sk-container-id-1 div.sk-parallel-item::before {content: \"\";position: absolute;border-left: 1px solid gray;box-sizing: border-box;top: 0;bottom: 0;left: 50%;z-index: -1;}#sk-container-id-1 div.sk-parallel-item {display: flex;flex-direction: column;z-index: 1;position: relative;background-color: white;}#sk-container-id-1 div.sk-parallel-item:first-child::after {align-self: flex-end;width: 50%;}#sk-container-id-1 div.sk-parallel-item:last-child::after {align-self: flex-start;width: 50%;}#sk-container-id-1 div.sk-parallel-item:only-child::after {width: 0;}#sk-container-id-1 div.sk-dashed-wrapped {border: 1px dashed gray;margin: 0 0.4em 0.5em 0.4em;box-sizing: border-box;padding-bottom: 0.4em;background-color: white;}#sk-container-id-1 div.sk-label label {font-family: monospace;font-weight: bold;display: inline-block;line-height: 1.2em;}#sk-container-id-1 div.sk-label-container {text-align: center;}#sk-container-id-1 div.sk-container {/* jupyter's `normalize.less` sets `[hidden] { display: none; }` but bootstrap.min.css set `[hidden] { display: none !important; }` so we also need the `!important` here to be able to override the default hidden behavior on the sphinx rendered scikit-learn.org. See: https://github.com/scikit-learn/scikit-learn/issues/21755 */display: inline-block !important;position: relative;}#sk-container-id-1 div.sk-text-repr-fallback {display: none;}</style><div id=\"sk-container-id-1\" class=\"sk-top-container\"><div class=\"sk-text-repr-fallback\"><pre>GaussianNB()</pre><b>In a Jupyter environment, please rerun this cell to show the HTML representation or trust the notebook. <br />On GitHub, the HTML representation is unable to render, please try loading this page with nbviewer.org.</b></div><div class=\"sk-container\" hidden><div class=\"sk-item\"><div class=\"sk-estimator sk-toggleable\"><input class=\"sk-toggleable__control sk-hidden--visually\" id=\"sk-estimator-id-1\" type=\"checkbox\" checked><label for=\"sk-estimator-id-1\" class=\"sk-toggleable__label sk-toggleable__label-arrow\">GaussianNB</label><div class=\"sk-toggleable__content\"><pre>GaussianNB()</pre></div></div></div></div></div>"
      ],
      "text/plain": [
       "GaussianNB()"
      ]
     },
     "execution_count": 7,
     "metadata": {},
     "output_type": "execute_result"
    }
   ],
   "source": [
    "gnb.fit(X_train, y_train)"
   ]
  },
  {
   "cell_type": "code",
   "execution_count": 8,
   "metadata": {},
   "outputs": [],
   "source": [
    "import urllib\n",
    "import requests\n",
    "import re"
   ]
  },
  {
   "cell_type": "code",
   "execution_count": 9,
   "metadata": {},
   "outputs": [],
   "source": [
    "link = \"https://blynk.cloud/external/api/get?token=oexxsVM_hFfU-IK-h1q-inkWh-FUZMsD&V0\"\n",
    "f = requests.get(link)\n",
    "f1=f.text\n",
    "f1=\"\".join(c for c in f1 if c.isalnum())\n",
    "link2 = \"https://blynk.cloud/external/api/get?token=oexxsVM_hFfU-IK-h1q-inkWh-FUZMsD&V1\"\n",
    "f = requests.get(link2)\n",
    "f2=f.text\n",
    "f2=\"\".join(c for c in f2 if c.isalnum())\n",
    "link3 = \"https://blynk.cloud/external/api/get?token=oexxsVM_hFfU-IK-h1q-inkWh-FUZMsD&V3\"\n",
    "f = requests.get(link3)\n",
    "f3=f.text\n",
    "f3=\"\".join(c for c in f3 if c.isalnum())"
   ]
  },
  {
   "cell_type": "code",
   "execution_count": 10,
   "metadata": {},
   "outputs": [
    {
     "name": "stdout",
     "output_type": "stream",
     "text": [
      "0\n",
      "M10M21\n",
      "T38H56\n"
     ]
    }
   ],
   "source": [
    "print(f1)\n",
    "print(f2)\n",
    "print(f3)\n",
    "f4=2\n",
    "def spliter(line):\n",
    "    dim = ['M2','H']\n",
    "    remove = ['M1','T']\n",
    "    for word in remove:\n",
    "        line = line.replace(word,\"\")   \n",
    "    for word in dim:\n",
    "        word = \"\"+word+\"\"\n",
    "        line = line.replace(word,\" \")\n",
    "    return line.split(\" \")\n",
    "result1 = spliter(f1)\n",
    "result2 = spliter(f2)\n",
    "result3 = spliter(f3)"
   ]
  },
  {
   "cell_type": "code",
   "execution_count": 11,
   "metadata": {},
   "outputs": [
    {
     "name": "stdout",
     "output_type": "stream",
     "text": [
      "Crop :  0\n",
      "Moisture 1 :  0\n",
      "Moisture 2 :  1\n",
      "Temperature :  38\n",
      "Humidity :  56\n"
     ]
    }
   ],
   "source": [
    "print('Crop : ',f1)\n",
    "print('Moisture 1 : ',result2[0])\n",
    "print('Moisture 2 : ',result2[1])\n",
    "print('Temperature : ',result3[0])\n",
    "print('Humidity : ',result3[1])"
   ]
  },
  {
   "cell_type": "code",
   "execution_count": 12,
   "metadata": {},
   "outputs": [],
   "source": [
    "sensordata = [[float(f1),float(result2[0]),float(result2[1]),float(result3[0]),float(result3[1]),float(f4)]]\n",
    "#sensordata = [[float(106),float(87),float(10),float(10.112725),float(76.101282),float(2)]]\n",
    "#print(sensordata)"
   ]
  },
  {
   "cell_type": "code",
   "execution_count": 13,
   "metadata": {},
   "outputs": [],
   "source": [
    "y_pred = gnb.predict(sensordata)"
   ]
  },
  {
   "cell_type": "code",
   "execution_count": 14,
   "metadata": {},
   "outputs": [
    {
     "name": "stdout",
     "output_type": "stream",
     "text": [
      "[5]\n"
     ]
    }
   ],
   "source": [
    "print(y_pred)"
   ]
  },
  {
   "cell_type": "code",
   "execution_count": 15,
   "metadata": {},
   "outputs": [
    {
     "name": "stdout",
     "output_type": "stream",
     "text": [
      "Valve 1 & Valve 2 Pump ON\n"
     ]
    }
   ],
   "source": [
    "if y_pred==1:\n",
    "    print('Valve 1 Pump ON')\n",
    "    res1='1'\n",
    "if y_pred==2:\n",
    "    print('Valve 1 Pump OFF')\n",
    "    res1='2'\n",
    "if y_pred==3:\n",
    "    print('Valve 2 Pump ON')\n",
    "    res1='3'\n",
    "if y_pred==4:\n",
    "    print('Valve 2 Pump OFF')\n",
    "    res1='4'\n",
    "if y_pred==5:\n",
    "    print('Valve 1 & Valve 2 Pump ON')\n",
    "    res1='5'\n",
    "if y_pred==6:\n",
    "    print('Valve 1 & Valve 2 Pump OFF')\n",
    "    res1='6'"
   ]
  },
  {
   "cell_type": "code",
   "execution_count": 16,
   "metadata": {},
   "outputs": [],
   "source": [
    "link5 = \"https://blynk.cloud/external/api/update?token=oexxsVM_hFfU-IK-h1q-inkWh-FUZMsD&V4=\"+res1\n",
    "f = requests.get(link5)\n",
    "f5=f.text\n",
    "f5=\"\".join(c for c in f5 if c.isalnum())"
   ]
  },
  {
   "cell_type": "code",
   "execution_count": null,
   "metadata": {},
   "outputs": [
    {
     "name": "stdout",
     "output_type": "stream",
     "text": [
      "Valve 1 & Valve 2 Pump ON\n",
      "Valve 1 & Valve 2 Pump ON\n",
      "Valve 1 & Valve 2 Pump ON\n",
      "Valve 1 & Valve 2 Pump ON\n",
      "Valve 1 & Valve 2 Pump ON\n",
      "Valve 1 & Valve 2 Pump ON\n",
      "Valve 1 & Valve 2 Pump ON\n",
      "Valve 1 & Valve 2 Pump ON\n",
      "Valve 1 & Valve 2 Pump ON\n",
      "Valve 1 & Valve 2 Pump ON\n",
      "Valve 1 & Valve 2 Pump ON\n",
      "Valve 1 & Valve 2 Pump ON\n",
      "Valve 1 & Valve 2 Pump ON\n",
      "Valve 1 & Valve 2 Pump ON\n",
      "Valve 1 & Valve 2 Pump ON\n",
      "Valve 1 & Valve 2 Pump ON\n",
      "Valve 1 & Valve 2 Pump ON\n",
      "Valve 1 & Valve 2 Pump ON\n",
      "Valve 1 & Valve 2 Pump ON\n",
      "Valve 1 & Valve 2 Pump ON\n",
      "Valve 1 & Valve 2 Pump ON\n",
      "Valve 1 & Valve 2 Pump ON\n",
      "Valve 1 & Valve 2 Pump ON\n",
      "Valve 1 & Valve 2 Pump ON\n",
      "Valve 1 & Valve 2 Pump ON\n",
      "Valve 1 & Valve 2 Pump ON\n",
      "Valve 1 & Valve 2 Pump ON\n",
      "Valve 1 & Valve 2 Pump ON\n",
      "Valve 1 & Valve 2 Pump ON\n",
      "Valve 1 & Valve 2 Pump ON\n",
      "Valve 1 & Valve 2 Pump ON\n",
      "Valve 1 & Valve 2 Pump ON\n",
      "Valve 1 & Valve 2 Pump ON\n",
      "Valve 1 & Valve 2 Pump ON\n",
      "Valve 1 & Valve 2 Pump ON\n",
      "Valve 1 & Valve 2 Pump ON\n",
      "Valve 1 & Valve 2 Pump ON\n",
      "Valve 1 & Valve 2 Pump ON\n",
      "Valve 1 & Valve 2 Pump ON\n",
      "Valve 1 & Valve 2 Pump ON\n",
      "Valve 1 & Valve 2 Pump ON\n",
      "Valve 1 & Valve 2 Pump ON\n",
      "Valve 1 & Valve 2 Pump ON\n",
      "Valve 1 & Valve 2 Pump ON\n",
      "Valve 1 & Valve 2 Pump ON\n",
      "Valve 1 & Valve 2 Pump ON\n",
      "Valve 1 & Valve 2 Pump ON\n",
      "Valve 1 & Valve 2 Pump ON\n",
      "Valve 1 & Valve 2 Pump ON\n",
      "Valve 1 & Valve 2 Pump ON\n",
      "Valve 1 & Valve 2 Pump ON\n",
      "Valve 1 & Valve 2 Pump ON\n",
      "Valve 1 & Valve 2 Pump ON\n",
      "Valve 1 & Valve 2 Pump ON\n",
      "Valve 1 & Valve 2 Pump ON\n",
      "Valve 1 & Valve 2 Pump ON\n",
      "Valve 1 & Valve 2 Pump ON\n",
      "Valve 1 & Valve 2 Pump ON\n",
      "Valve 1 & Valve 2 Pump ON\n",
      "Valve 1 & Valve 2 Pump ON\n",
      "Valve 1 & Valve 2 Pump ON\n",
      "Valve 1 & Valve 2 Pump ON\n",
      "Valve 1 & Valve 2 Pump ON\n",
      "Valve 1 & Valve 2 Pump ON\n",
      "Valve 1 & Valve 2 Pump ON\n",
      "Valve 1 & Valve 2 Pump ON\n",
      "Valve 1 & Valve 2 Pump ON\n",
      "Valve 1 & Valve 2 Pump ON\n",
      "Valve 1 & Valve 2 Pump ON\n",
      "Valve 1 & Valve 2 Pump ON\n",
      "Valve 1 & Valve 2 Pump ON\n",
      "Valve 1 & Valve 2 Pump ON\n",
      "Valve 1 & Valve 2 Pump ON\n",
      "Valve 1 & Valve 2 Pump ON\n",
      "Valve 1 & Valve 2 Pump ON\n",
      "Valve 1 & Valve 2 Pump ON\n",
      "Valve 1 & Valve 2 Pump ON\n",
      "Valve 1 & Valve 2 Pump ON\n",
      "Valve 1 & Valve 2 Pump ON\n",
      "Valve 1 & Valve 2 Pump ON\n",
      "Valve 1 & Valve 2 Pump ON\n",
      "Valve 1 & Valve 2 Pump ON\n",
      "Valve 1 & Valve 2 Pump ON\n",
      "Valve 1 & Valve 2 Pump ON\n",
      "Valve 1 & Valve 2 Pump ON\n",
      "Valve 1 & Valve 2 Pump ON\n",
      "Valve 1 & Valve 2 Pump ON\n",
      "Valve 1 & Valve 2 Pump ON\n",
      "Valve 1 & Valve 2 Pump ON\n",
      "Valve 1 & Valve 2 Pump ON\n",
      "Valve 1 & Valve 2 Pump ON\n",
      "Valve 1 & Valve 2 Pump ON\n",
      "Valve 1 & Valve 2 Pump ON\n",
      "Valve 1 & Valve 2 Pump ON\n",
      "Valve 1 & Valve 2 Pump ON\n",
      "Valve 1 & Valve 2 Pump ON\n"
     ]
    }
   ],
   "source": [
    "import time\n",
    "count=0\n",
    "while True:\n",
    "    time.sleep(20) # waits 20 seconds\n",
    "    link = \"https://blynk.cloud/external/api/get?token=oexxsVM_hFfU-IK-h1q-inkWh-FUZMsD&V0\"\n",
    "    f = requests.get(link)\n",
    "    f1=f.text\n",
    "    f1=\"\".join(c for c in f1 if c.isalnum())\n",
    "    link2 = \"https://blynk.cloud/external/api/get?token=oexxsVM_hFfU-IK-h1q-inkWh-FUZMsD&V1\"\n",
    "    f = requests.get(link2)\n",
    "    f2=f.text\n",
    "    f2=\"\".join(c for c in f2 if c.isalnum())\n",
    "    link3 = \"https://blynk.cloud/external/api/get?token=oexxsVM_hFfU-IK-h1q-inkWh-FUZMsD&V3\"\n",
    "    f = requests.get(link3)\n",
    "    f3=f.text\n",
    "    f3=\"\".join(c for c in f3 if c.isalnum())\n",
    "    result1 = spliter(f1)\n",
    "    result2 = spliter(f2)\n",
    "    result3 = spliter(f3)\n",
    "    sensordata = [[float(f1),float(result2[0]),float(result2[1]),float(result3[0]),float(result3[1]),float(f4)]]\n",
    "    y_pred = gnb.predict(sensordata)\n",
    "    if y_pred==1:\n",
    "        print('Valve 1 Pump ON')\n",
    "        res1='1'\n",
    "    if y_pred==2:\n",
    "        print('Valve 1 Pump OFF')\n",
    "        res1='2'\n",
    "    if y_pred==3:\n",
    "        print('Valve 2 Pump ON')\n",
    "        res1='3'\n",
    "    if y_pred==4:\n",
    "        print('Valve 2 Pump OFF')\n",
    "        res1='4'\n",
    "    if y_pred==5:\n",
    "        print('Valve 1 & Valve 2 Pump ON')\n",
    "        res1='5'\n",
    "    if y_pred==6:\n",
    "        print('Valve 1 & Valve 2 Pump OFF')\n",
    "        res1='6'\n",
    "    link5 = \"https://blynk.cloud/external/api/update?token=oexxsVM_hFfU-IK-h1q-inkWh-FUZMsD&V4=\"+res1\n",
    "    f = requests.get(link5)\n",
    "    f5=f.text\n",
    "    f5=\"\".join(c for c in f5 if c.isalnum())\n",
    "    count = count+1\n",
    "    if count>1000: # break on a specific statment\n",
    "        break"
   ]
  }
 ],
 "metadata": {
  "kernelspec": {
   "display_name": "Python 3 (ipykernel)",
   "language": "python",
   "name": "python3"
  },
  "language_info": {
   "codemirror_mode": {
    "name": "ipython",
    "version": 3
   },
   "file_extension": ".py",
   "mimetype": "text/x-python",
   "name": "python",
   "nbconvert_exporter": "python",
   "pygments_lexer": "ipython3",
   "version": "3.11.5"
  }
 },
 "nbformat": 4,
 "nbformat_minor": 2
}
